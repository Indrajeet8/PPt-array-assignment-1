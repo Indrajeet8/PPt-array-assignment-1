{
 "cells": [
  {
   "cell_type": "markdown",
   "id": "a638841b-12b6-448a-a1bc-2c890c94e0fc",
   "metadata": {},
   "source": [
    "Assignment --1 "
   ]
  },
  {
   "cell_type": "raw",
   "id": "028110de-d51a-426f-bd64-ebb6e96b630d",
   "metadata": {},
   "source": [
    "\n",
    "Q1. Given an array of integers nums and an integer target, return indices of the two numbers such that they add up to target\n",
    "You may assume that each input would have exactly one solution, and you may not use the same element twice.\n",
    "You can return the answer in any order.\n",
    "Input: nums = [2,7,11,15], target = 9\n",
    "Output0 [0,1]"
   ]
  },
  {
   "cell_type": "code",
   "execution_count": 4,
   "id": "a223fa5e-75fc-4135-87c6-d549e006baa5",
   "metadata": {},
   "outputs": [],
   "source": [
    "def two_sum(arr,targ):\n",
    "    look_for = {}\n",
    "    for n,x in enumerate(arr,1):\n",
    "        try:\n",
    "            return look_for[x], n\n",
    "        except KeyError:\n",
    "            look_for.setdefault(targ - x,n)\n",
    "            "
   ]
  },
  {
   "cell_type": "code",
   "execution_count": 6,
   "id": "07b050f0-99be-438d-8394-9f3cab1db735",
   "metadata": {},
   "outputs": [
    {
     "name": "stdout",
     "output_type": "stream",
     "text": [
      "(1, 2)\n"
     ]
    }
   ],
   "source": [
    "a = (2,7,1,15)\n",
    "t = 9\n",
    "print(two_sum(a,t))"
   ]
  },
  {
   "cell_type": "raw",
   "id": "5cc3e02b-bb3f-47f4-af25-37bab1435d87",
   "metadata": {},
   "source": [
    "\n",
    "Q2.Given an integer array nums and an integer val, remove all occurrences of val in nums in-place. The order of the elements may be changed. Then return the number of elements in nums which are not equal to val.\n",
    "\n",
    "Consider the number of elements in nums which are not equal to val be k, to get accepted, you need to do the following things:\n",
    "\n",
    "- Change the array nums such that the first k elements of nums contain the elements which are not equal to val. The remaining elements of nums are not important as well as the size of nums.\n",
    "- Return k.\n"
   ]
  },
  {
   "cell_type": "code",
   "execution_count": 20,
   "id": "3a08e5b4-25b1-418f-8c43-9061a3f72f2b",
   "metadata": {},
   "outputs": [],
   "source": [
    "def removeElement(nums, val):\n",
    "    k = 0\n",
    "    for i in range(len(nums)):\n",
    "        if nums[i] != val:\n",
    "            nums[k] = nums[i]\n",
    "            k += 1\n",
    "    return k"
   ]
  },
  {
   "cell_type": "code",
   "execution_count": 21,
   "id": "599f8d20-913f-4dea-991a-14e8bdb8d043",
   "metadata": {},
   "outputs": [
    {
     "name": "stdout",
     "output_type": "stream",
     "text": [
      "Output: 2\n",
      "Modified nums: [2, 2]\n"
     ]
    }
   ],
   "source": [
    "nums = [3, 2, 2, 3]\n",
    "val = 3\n",
    "result = removeElement(nums, val)\n",
    "print(\"Output:\", result)\n",
    "print(\"Modified nums:\", nums[:result]) "
   ]
  },
  {
   "cell_type": "code",
   "execution_count": null,
   "id": "996417b7-2691-45ec-b09d-277943f50450",
   "metadata": {},
   "outputs": [],
   "source": []
  },
  {
   "cell_type": "raw",
   "id": "e27ada12-abe0-4011-b26f-0cdc37f7675e",
   "metadata": {},
   "source": [
    "Ques. 3\n",
    "Given a sorted array of distinct integers and a target value, return the index if the target is found. If not, return the index where it would be if it were inserted in order.\n",
    "\n",
    "You must write an algorithm with O(log n) runtime complexity.\n",
    "\n",
    "Input: nums = [1,3,5,6], target = 5"
   ]
  },
  {
   "cell_type": "code",
   "execution_count": 23,
   "id": "76a15c05-dd78-445c-820e-4da16d8ad2e6",
   "metadata": {},
   "outputs": [],
   "source": [
    "def searchInsert (nums , target):\n",
    "    left = 0 \n",
    "    right = len(nums)-1\n",
    "    while left <= right :\n",
    "        mid = (left + right )//2\n",
    "        if nums [mid ] == target :\n",
    "            return mid \n",
    "        elif nums [mid] < target :\n",
    "            left = mid +1 \n",
    "        else :\n",
    "            right= mid -1\n",
    "        return left "
   ]
  },
  {
   "cell_type": "code",
   "execution_count": 24,
   "id": "efacb7f9-c5a1-4de2-a119-2c63a153b3cd",
   "metadata": {},
   "outputs": [
    {
     "name": "stdout",
     "output_type": "stream",
     "text": [
      "output : 2\n"
     ]
    }
   ],
   "source": [
    "nums = [1,3,5,6]\n",
    "target = 5\n",
    "result = searchInsert(nums , target)\n",
    "print(\"output :\" , result)"
   ]
  },
  {
   "cell_type": "code",
   "execution_count": null,
   "id": "4536d892-681d-4b66-bc6e-1f8626533efc",
   "metadata": {},
   "outputs": [],
   "source": []
  },
  {
   "cell_type": "raw",
   "id": "9fe3fb0f-0be9-44ce-8f1f-fb677ba51a15",
   "metadata": {},
   "source": [
    "Ques ..4\n",
    "You are given a large integer represented as an integer array digits, where each digits[i] is the ith digit of the integer. The digits are ordered from most significant to least significant in left-to-right order. The large integer does not contain any leading 0's.\n",
    "\n",
    "Increment the large integer by one and return the resulting array of digits.\n",
    "Example\n",
    "Input: digits = [1,2,3]\n",
    "Output: [1,2,4]\n"
   ]
  },
  {
   "cell_type": "code",
   "execution_count": 27,
   "id": "cb95e42a-bb90-4f73-a325-901d6531ecd3",
   "metadata": {},
   "outputs": [],
   "source": [
    "def plusOne(digits):\n",
    "    carry = 1\n",
    "    n = len(digits)\n",
    "    for i in range (n-1 , -1 , -1):\n",
    "        sum = digits[i] + carry \n",
    "        digits [i] = sum % 10\n",
    "        carry = sum //10\n",
    "        \n",
    "    if carry == 1 :\n",
    "        digits.insert (0,1)\n",
    "    return digits"
   ]
  },
  {
   "cell_type": "code",
   "execution_count": 28,
   "id": "14faf94c-b7f4-4d11-9b2f-ed07ca85cb90",
   "metadata": {},
   "outputs": [
    {
     "name": "stdout",
     "output_type": "stream",
     "text": [
      "Output: [1, 2, 4]\n"
     ]
    }
   ],
   "source": [
    "digits = [1,2,3]\n",
    "result = plusOne (digits)\n",
    "print(result)"
   ]
  },
  {
   "cell_type": "code",
   "execution_count": null,
   "id": "7e5b848b-3247-46e5-983c-1a6198d43394",
   "metadata": {},
   "outputs": [],
   "source": []
  },
  {
   "cell_type": "raw",
   "id": "240de9d1-842a-4ed2-8079-e44c077a58eb",
   "metadata": {},
   "source": [
    "Ques.. 5\n",
    "You are given two integer arrays nums1 and nums2, sorted in non-decreasing order, and two integers m and n, representing the number of elements in nums1 and nums2 respectively.\n",
    "\n",
    "Merge nums1 and nums2 into a single array sorted in non-decreasing order.\n",
    "\n",
    "The final sorted array should not be returned by the function, but instead be stored inside the array nums1. To accommodate this, nums1 has a length of m + n, where the first m elements denote the elements that should be merged, and the last n elements are set to 0 and should be ignored. nums2 has a length of n.\n",
    "\n",
    "Input: nums1 = [1,2,3,0,0,0], m = 3, nums2 = [2,5,6], n = 3\n",
    "Output: [1,2,2,3,5,6]\n",
    "\n"
   ]
  },
  {
   "cell_type": "code",
   "execution_count": null,
   "id": "4f801046-1d49-4a5f-a72e-04f544f768b3",
   "metadata": {},
   "outputs": [],
   "source": []
  },
  {
   "cell_type": "code",
   "execution_count": 32,
   "id": "571a2361-c31d-47a7-b32a-706c65cc8d76",
   "metadata": {},
   "outputs": [],
   "source": [
    "def merge(nums1, m, nums2, n):\n",
    "    p1 = m - 1\n",
    "    p2 = n - 1\n",
    "    p = m + n - 1\n",
    "\n",
    "    while p1 >= 0 and p2 >= 0:\n",
    "        if nums1[p1] >= nums2[p2]:\n",
    "            nums1[p] = nums1[p1]\n",
    "            p1 -= 1\n",
    "        else:\n",
    "            nums1[p] = nums2[p2]\n",
    "            p2 -= 1\n",
    "        p -= 1\n",
    "\n",
    "    while p2 >= 0:\n",
    "        nums1[p] = nums2[p2]\n",
    "        p2 -= 1\n",
    "        p -= 1\n",
    "\n",
    "    return nums1\n"
   ]
  },
  {
   "cell_type": "code",
   "execution_count": 33,
   "id": "f9504765-9489-4b2d-bd9b-1cd524d58ee9",
   "metadata": {},
   "outputs": [
    {
     "name": "stdout",
     "output_type": "stream",
     "text": [
      "[1, 2, 2, 3, 5, 6]\n"
     ]
    }
   ],
   "source": [
    "nums1 = [1,2,3,0,0,0]\n",
    "m = 3\n",
    "nums2 = [2,5,6]\n",
    "n = 3 \n",
    "result = merge(nums1 , m , nums2 , n)\n",
    "print (result)"
   ]
  },
  {
   "cell_type": "code",
   "execution_count": null,
   "id": "db638932-f51e-45d6-bc82-1edb7d13474d",
   "metadata": {},
   "outputs": [],
   "source": []
  },
  {
   "cell_type": "raw",
   "id": "63fdd258-159b-4130-9bd7-fbf420d8265f",
   "metadata": {},
   "source": [
    "Ques.6\n",
    "Given an integer array nums, return true if any value appears at least twice in the array, and return false if every element is distinct.\n",
    "\n",
    "Input: nums = [1,2,3,1]\n",
    "\n",
    "Output: true"
   ]
  },
  {
   "cell_type": "code",
   "execution_count": 43,
   "id": "39328242-1690-4f75-9f51-222157818bdd",
   "metadata": {},
   "outputs": [],
   "source": [
    "def containsDuplicate (nums):\n",
    "    num_set = set ()\n",
    "    for num in nums :\n",
    "        if num in num_set:\n",
    "            return True \n",
    "        num_set.add(num)\n",
    "        \n",
    "    return False "
   ]
  },
  {
   "cell_type": "code",
   "execution_count": 44,
   "id": "6d625e76-dd4f-4af8-b28c-eb3c3fbb7aa5",
   "metadata": {},
   "outputs": [
    {
     "name": "stdout",
     "output_type": "stream",
     "text": [
      "True\n"
     ]
    }
   ],
   "source": [
    "nums = [1,2,3,1]\n",
    "result = containsDuplicate(nums)\n",
    "print(result)"
   ]
  },
  {
   "cell_type": "code",
   "execution_count": null,
   "id": "17092b70-9f52-4f1b-a4f2-e3b0cb8bec1c",
   "metadata": {},
   "outputs": [],
   "source": []
  },
  {
   "cell_type": "raw",
   "id": "0d28b014-c60c-49e7-ae2a-ed58e24b3777",
   "metadata": {},
   "source": [
    "Ques..7\n",
    "Given an integer array nums, move all 0's to the end of it while maintaining the relative order of the nonzero elements.\n",
    "\n",
    "Note that you must do this in-place without making a copy of the array.\n",
    "\n",
    "Input: nums = [0,1,0,3,12]\n",
    "Output: [1,3,12,0,0]\n"
   ]
  },
  {
   "cell_type": "code",
   "execution_count": 48,
   "id": "c62cce72-645a-433e-80aa-8542764d83f9",
   "metadata": {},
   "outputs": [],
   "source": [
    "def moveZeroes(nums):\n",
    "    left = 0\n",
    "    right = 0\n",
    "    n = len(nums)\n",
    "\n",
    "    while right < n:\n",
    "        if nums[right] != 0:\n",
    "            nums[left] = nums[right]\n",
    "            left += 1\n",
    "        right += 1\n",
    "\n",
    "    while left < n:\n",
    "        nums[left] = 0\n",
    "        left += 1\n",
    "\n",
    "    return nums\n"
   ]
  },
  {
   "cell_type": "code",
   "execution_count": 49,
   "id": "91024468-271b-428a-9ac0-4ed386a41e40",
   "metadata": {},
   "outputs": [
    {
     "name": "stdout",
     "output_type": "stream",
     "text": [
      "[1, 3, 12, 0, 0]\n"
     ]
    }
   ],
   "source": [
    "nums = [0,1,0,3,12]\n",
    "result = moveZeroes(nums)\n",
    "print(result)"
   ]
  },
  {
   "cell_type": "code",
   "execution_count": null,
   "id": "abe2f433-5b1d-4cd2-b095-8da460a69e6b",
   "metadata": {},
   "outputs": [],
   "source": []
  },
  {
   "cell_type": "raw",
   "id": "eb4bfb46-7fb7-4903-8769-b8279c80289e",
   "metadata": {},
   "source": [
    "Ques.8\n",
    "You have a set of integers s, which originally contains all the numbers from 1 to n. Unfortunately, due to some error, one of the numbers in s got duplicated to another number in the set, which results in repetition of one number and loss of another number.\n",
    "\n",
    "You are given an integer array nums representing the data status of this set after the error.\n",
    "\n",
    "Find the number that occurs twice and the number that is missing and return them in the form of an array.\n",
    "\n",
    "\n",
    "Input: nums = [1,2,2,4]\n",
    "Output: [2,3]\n"
   ]
  },
  {
   "cell_type": "code",
   "execution_count": 51,
   "id": "1841f147-f662-42d5-a27b-3e42f842a0a3",
   "metadata": {},
   "outputs": [],
   "source": [
    "def findErrorNums(nums):\n",
    "    num_set = set()\n",
    "    duplicate = 0\n",
    "    missing = 0\n",
    "\n",
    "    for num in nums:\n",
    "        if num in num_set:\n",
    "            duplicate = num\n",
    "        else:\n",
    "            num_set.add(num)\n",
    "\n",
    "    for i in range(1, len(nums) + 1):\n",
    "        if i not in num_set:\n",
    "            missing = i\n",
    "\n",
    "    return [duplicate, missing]\n"
   ]
  },
  {
   "cell_type": "code",
   "execution_count": 52,
   "id": "a922dacd-a9d8-4cf8-8033-809c6fab985d",
   "metadata": {},
   "outputs": [
    {
     "name": "stdout",
     "output_type": "stream",
     "text": [
      "Output: [2, 3]\n"
     ]
    }
   ],
   "source": [
    "nums = [1, 2, 2, 4]\n",
    "result = findErrorNums(nums)\n",
    "print(\"Output:\", result)\n"
   ]
  },
  {
   "cell_type": "code",
   "execution_count": null,
   "id": "e0974c60-f5cd-435d-aa19-516e0d41e650",
   "metadata": {},
   "outputs": [],
   "source": []
  }
 ],
 "metadata": {
  "kernelspec": {
   "display_name": "Python 3 (ipykernel)",
   "language": "python",
   "name": "python3"
  },
  "language_info": {
   "codemirror_mode": {
    "name": "ipython",
    "version": 3
   },
   "file_extension": ".py",
   "mimetype": "text/x-python",
   "name": "python",
   "nbconvert_exporter": "python",
   "pygments_lexer": "ipython3",
   "version": "3.10.8"
  }
 },
 "nbformat": 4,
 "nbformat_minor": 5
}
